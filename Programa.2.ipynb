{
 "cells": [
  {
   "cell_type": "markdown",
   "metadata": {},
   "source": [
    "## Introduction to Python\n",
    "#### With this manual all programer can do and learn programing language "
   ]
  },
  {
   "cell_type": "markdown",
   "metadata": {},
   "source": [
    "#### A Good First Program "
   ]
  },
  {
   "cell_type": "markdown",
   "metadata": {},
   "source": [
    "The first thing that you need to do is learn how isntall a text editor, run the tex editor, run the terminal and work with both of them. After that you can start the exercise "
   ]
  },
  {
   "cell_type": "code",
   "execution_count": 6,
   "metadata": {},
   "outputs": [
    {
     "name": "stdout",
     "output_type": "stream",
     "text": [
      "First introduction to Python\n",
      "Hello class\n",
      "You can put anything that you want to print in the screen\n",
      "Enjoy programing\n"
     ]
    }
   ],
   "source": [
    "print(\"First introduction to Python\")\n",
    "print(\"Hello class\")\n",
    "print(\"You can put anything that you want to print in the screen\")\n",
    "print(\"Enjoy programing\")"
   ]
  },
  {
   "cell_type": "markdown",
   "metadata": {},
   "source": [
    "Your first program should look like this, don't worry about if looks diferent thats depends of your text editor some editors use differents codes or lines to do the same thing \n",
    "It's important keep in mind the next points: \n",
    "    "
   ]
  },
  {
   "cell_type": "markdown",
   "metadata": {},
   "source": [
    "#### Comments and Pound Characters "
   ]
  },
  {
   "cell_type": "markdown",
   "metadata": {},
   "source": [
    "The coments are so important to your programs with that you can know what's the work of that line and other use is to desability some instructions.\n"
   ]
  },
  {
   "cell_type": "code",
   "execution_count": 2,
   "metadata": {},
   "outputs": [
    {
     "name": "stdout",
     "output_type": "stream",
     "text": [
      "First introduction to Python\n",
      "Hello class\n",
      "Enjoy programing\n"
     ]
    }
   ],
   "source": [
    "# you can read the function of some instruction later.\n",
    "print(\"First introduction to Python\")# all coments after this are ignored\n",
    "print(\"Hello class\")\n",
    "# now this is an example of how disable a code \n",
    "# print(\"You can put anything that you want to print in the screen\")\n",
    "print(\"Enjoy programing\")"
   ]
  },
  {
   "cell_type": "markdown",
   "metadata": {},
   "source": [
    "#### Numbers and Math"
   ]
  },
  {
   "cell_type": "markdown",
   "metadata": {},
   "source": [
    "Every program could have some basic operations there are the next:\n",
    "(+ plus) (-minus)(/slash, division)(* asterisk, mutiplied by)(% percent)(< less-than)(>greater-than)(<=less-than-equal)(>=greater-than-equal)\n",
    "Now this is an example of use this operations"
   ]
  },
  {
   "cell_type": "code",
   "execution_count": 3,
   "metadata": {},
   "outputs": [
    {
     "name": "stdout",
     "output_type": "stream",
     "text": [
      "I will count mony:\n",
      "dollars 225.0\n",
      "we will count litters:\n",
      "14\n",
      "Is it true that 3*5<900/2\n",
      "True\n"
     ]
    }
   ],
   "source": [
    "print(\"I will count mony:\")\n",
    "print(\"dollars\", 30*15/2*1)\n",
    "print(\"we will count litters:\")\n",
    "print(3+5*2+1)\n",
    "print (\"Is it true that 3*5<900/2\")\n",
    "print(3*5<900/2)"
   ]
  },
  {
   "cell_type": "code",
   "execution_count": 8,
   "metadata": {},
   "outputs": [
    {
     "name": "stdout",
     "output_type": "stream",
     "text": [
      "There are the phones in stock 50\n",
      "The total value of the phones are:$ 75000\n",
      "This is the price by each smart phone:$ 1500\n"
     ]
    }
   ],
   "source": [
    "Price_Smart_phone=1500\n",
    "stock_Smart_phones=50\n",
    "money_in_products=Price_Smart_phone*stock_Smart_phone\n",
    "print(\"There are the phones in stock\",stock_Smart_phones)\n",
    "print(\"The total value of the phones are:$\",money_in_products)\n",
    "print(\"This is the price by each smart phone:$\",Price_Smart_phone)\n"
   ]
  },
  {
   "cell_type": "markdown",
   "metadata": {},
   "source": [
    "#### More Variables and Printing\n",
    "We will use \"format string\" (double-quotes) taking a piece of text that you have been making a *string* it is how you make something that your program might give to a human.\n",
    "Example:"
   ]
  },
  {
   "cell_type": "code",
   "execution_count": 9,
   "metadata": {},
   "outputs": [
    {
     "name": "stdout",
     "output_type": "stream",
     "text": [
      "The name of my girlfrien is Marisol.H.\n",
      "She is 1.5 meters tall.\n",
      "My name is Adrian.A and I am 1.77 meters tall.\n"
     ]
    }
   ],
   "source": [
    "My_girlfriends_name='Marisol.H'\n",
    "My_height=1.77 #meters\n",
    "Her_height=1.5 #meters\n",
    "My_name= 'Adrian.A'\n",
    "print(f\"The name of my girlfrien is {My_girlfriends_name}.\")\n",
    "print(f\"She is {Her_height} meters tall.\")\n",
    "print(f\"My name is {My_name} and I am {My_height} meters tall.\")"
   ]
  },
  {
   "cell_type": "markdown",
   "metadata": {},
   "source": [
    "#### Strings and Text\n",
    "You know how works strings but in this exercise we going to create a bunch of bariables with complex strings.\n"
   ]
  },
  {
   "cell_type": "code",
   "execution_count": 16,
   "metadata": {},
   "outputs": [
    {
     "name": "stdout",
     "output_type": "stream",
     "text": [
      "There are 12 types of cars.\n",
      "Those who know Work and those who don't.\n",
      "I said: There are 12 types of cars.\n",
      "I also said: 'Those who know Work and those who don't.'\n",
      "Isn't that joke so funny?!False\n",
      "This is the left side of...a string with a right side.\n"
     ]
    }
   ],
   "source": [
    "Types_of_cars=12\n",
    "Tp=f\"There are {Types_of_cars} types of cars.\"\n",
    "w=\"Work\"\n",
    "N=\"don't\"\n",
    "y=f\"Those who know {w} and those who {N}.\"\n",
    "print(Tp)\n",
    "print(y)\n",
    "print(f\"I said: {Tp}\")\n",
    "print(f\"I also said: '{y}'\")\n",
    "z= False\n",
    "A=\"Isn't that joke so funny?!{}\"\n",
    "print(A.format(z))\n",
    "t=\"This is the left side of...\"\n",
    "e=\"a string with a right side.\"\n",
    "print(t+e)"
   ]
  }
 ],
 "metadata": {
  "kernelspec": {
   "display_name": "Python 3",
   "language": "python",
   "name": "python3"
  },
  "language_info": {
   "codemirror_mode": {
    "name": "ipython",
    "version": 3
   },
   "file_extension": ".py",
   "mimetype": "text/x-python",
   "name": "python",
   "nbconvert_exporter": "python",
   "pygments_lexer": "ipython3",
   "version": "3.7.3"
  }
 },
 "nbformat": 4,
 "nbformat_minor": 2
}
More Printing
Now we are goingo to do more of the same just type code in and make it run.
print ("I want to go to the taqueria.")
print ("because I am realy hungry.")
print ("and I want to eat.")
print ("." * 10) 
​
end1 = "T"
end2 = "A"
end3 = "C"
end4 = "O"
end5 = "S"
end6 = "D"
end7 = "E"
end8 = "T"
end9 = "R"
end10 = "O"
end11 = "M"
end12 = "P"
end13 = "O"
​
​
​
print (end1 + end2 + end3 + end4 + end5 )
print (end6 + end7)
print (end8 + end9 + end10 + end11 + end12 + end13)
I want to go to the taqueria.
because I am realy hungry.
and I want to eat.
..........
TACOS
DE
TROMPO
This is another example to how to print more text and it is just for practice
Printing, Printing
It´s time to see how to do more complicated formatting of a string. The next code looks complicated but if you try you´ll understand it.
formatter = "{} {} {} {}" 
​
print (formatter.format(1, 2, 3, 4) )
print (formatter.format("one", "two", "three", "four"))
print (formatter.format(True, False, False, True))
print (formatter.format(formatter, formatter, formatter, formatter))
print (formatter.format(
    "Entre lo que veo y digo",
    "Entre lo que digo y callo", 
    "Entre lo que callo y sueño", 
    "Entre lo que sueño y olvido"
))
1 2 3 4
one two three four
True False False True
{} {} {} {} {} {} {} {} {} {} {} {} {} {} {} {}
Entre lo que veo y digo Entre lo que digo y callo Entre lo que callo y sueño Entre lo que sueño y olvido
lt of calling format on formatter is a new string that has the {} replaced with the four variables.
In the exercise we use a "function" that is used to turn the formatter variable into other string.
writing formatter.format(....) we are telling to do:
    1. Defined formatter string on line 1
    2. Call its format function, which is similar to telling it to do a command line command named format.
    3. Pass to format four arguments, wich match up with the four {} in the formatter variable.
    4. The result of calling format on formatter is a new string that has the {} replaced with the four variables.
Printing, Printing, Printing
to 
In the manual we have a pattern that is to mix diferent exercises to develop the knowledge and skills to do more difficult programs
food = "Tacos Hamburguer HotDog Pizza"
drinks = "\nCoca-cola\nWater\nJuice\nGatorade"
​
print ("Here is the food: ", food)
print ("Here are the drinks: ", drinks)
​
print ("""This can be useful to organice the drinks and food for a party""")
Here is the food:  Tacos Hamburguer HotDog Pizza
Here are the drinks:  
Coca-cola
Water
Juice
Gatorade
This can be useful to organice the drinks and food for a party
e to practice
This exercise is based in the exercise number 7 repeat the same to practice
What Was That?
.
in the exercise 9 we put some new stuff and show 2 diferents way to do a string that goes acrosse multiple line, in the first way we put the caracters between the name of the drinks those 2 caracters put another line of caracter inside of caracters in that point, the other way is using triple quotes, wich is just """ and works like a string and you can put as many lines of text as you want and after put """ again.
tabby_dog = "\tI´m tabbed in."
persian_dog = "I´m split\non a line."
backslash_dog = "I´m\\ a \\ dog."
​
fat_dog= """ 
I´ll do a list:
\t* Dog food 
\t* Fishies
\t* Dognip\n\t* Grass
"""
​
print (tabby_dog)
print (persian_dog)
print (backslash_dog)
print (fat_dog)
	I´m tabbed in.
I´m split
on a line.
I´m\ a \ dog.
 
I´ll do a list:
	* Dog food 
	* Fishies
	* Dognip
	* Grass

1.The escape sequences are very iportant so we recomend memorized

2.Combine diferent escape secuence to create more complex format
